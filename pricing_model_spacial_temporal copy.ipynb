{
 "cells": [
  {
   "cell_type": "code",
   "execution_count": 15,
   "metadata": {},
   "outputs": [],
   "source": [
    "import numpy as np\n",
    "import pandas as pd\n",
    "import matplotlib.pyplot as plt\n",
    "import sklearn\n",
    "import nltk\n",
    "\n",
    "from sklearn import preprocessing\n",
    "from sklearn import metrics\n",
    "from sklearn.model_selection import cross_val_predict\n",
    "from sklearn import linear_model\n",
    "\n",
    "from sklearn.cross_validation import KFold, cross_val_score\n",
    "from sklearn.model_selection import train_test_split\n",
    "\n",
    "import seaborn as sns\n",
    "from pylab import *\n",
    "import matplotlib.pyplot as plt\n",
    "import pickle\n",
    "import datetime\n",
    "\n",
    "import pyproj\n",
    "from scipy.interpolate import griddata"
   ]
  },
  {
   "cell_type": "code",
   "execution_count": 26,
   "metadata": {},
   "outputs": [],
   "source": [
    "dataset = pd.read_excel('all_houses08liquidity_new.xlsx',sheet_name=0, header=0)"
   ]
  },
  {
   "cell_type": "code",
   "execution_count": 29,
   "metadata": {},
   "outputs": [],
   "source": [
    "data=dataset\n",
    "data=data.loc[~pd.isnull(data['soldPrice'])]"
   ]
  },
  {
   "cell_type": "code",
   "execution_count": 30,
   "metadata": {},
   "outputs": [
    {
     "data": {
      "text/html": [
       "<div>\n",
       "<style scoped>\n",
       "    .dataframe tbody tr th:only-of-type {\n",
       "        vertical-align: middle;\n",
       "    }\n",
       "\n",
       "    .dataframe tbody tr th {\n",
       "        vertical-align: top;\n",
       "    }\n",
       "\n",
       "    .dataframe thead th {\n",
       "        text-align: right;\n",
       "    }\n",
       "</style>\n",
       "<table border=\"1\" class=\"dataframe\">\n",
       "  <thead>\n",
       "    <tr style=\"text-align: right;\">\n",
       "      <th></th>\n",
       "      <th>BedroomSize</th>\n",
       "      <th>BsmntBedroom</th>\n",
       "      <th>BsmntDen</th>\n",
       "      <th>BsmntDining Rm</th>\n",
       "      <th>BsmntFamily Rm</th>\n",
       "      <th>BsmntKitchen</th>\n",
       "      <th>BsmntLaundry</th>\n",
       "      <th>BsmntLiving Rm</th>\n",
       "      <th>BsmntMstr Bed</th>\n",
       "      <th>DenSize</th>\n",
       "      <th>...</th>\n",
       "      <th>transactionType</th>\n",
       "      <th>transitLevel</th>\n",
       "      <th>unitExposure</th>\n",
       "      <th>waterArea</th>\n",
       "      <th>waterSupply</th>\n",
       "      <th>waterView</th>\n",
       "      <th>year</th>\n",
       "      <th>yrBuilt</th>\n",
       "      <th>zone</th>\n",
       "      <th>zoneAuto</th>\n",
       "    </tr>\n",
       "  </thead>\n",
       "  <tbody>\n",
       "    <tr>\n",
       "      <th>0</th>\n",
       "      <td>NaN</td>\n",
       "      <td>NaN</td>\n",
       "      <td>NaN</td>\n",
       "      <td>NaN</td>\n",
       "      <td>NaN</td>\n",
       "      <td>NaN</td>\n",
       "      <td>NaN</td>\n",
       "      <td>NaN</td>\n",
       "      <td>NaN</td>\n",
       "      <td>NaN</td>\n",
       "      <td>...</td>\n",
       "      <td>NaN</td>\n",
       "      <td>152.0</td>\n",
       "      <td>NaN</td>\n",
       "      <td>0.0</td>\n",
       "      <td>NaN</td>\n",
       "      <td>0</td>\n",
       "      <td>2017</td>\n",
       "      <td>1955.0</td>\n",
       "      <td>Zone SE</td>\n",
       "      <td>Zone SE</td>\n",
       "    </tr>\n",
       "    <tr>\n",
       "      <th>1</th>\n",
       "      <td>NaN</td>\n",
       "      <td>NaN</td>\n",
       "      <td>NaN</td>\n",
       "      <td>NaN</td>\n",
       "      <td>NaN</td>\n",
       "      <td>NaN</td>\n",
       "      <td>NaN</td>\n",
       "      <td>NaN</td>\n",
       "      <td>NaN</td>\n",
       "      <td>NaN</td>\n",
       "      <td>...</td>\n",
       "      <td>NaN</td>\n",
       "      <td>169.0</td>\n",
       "      <td>E, W</td>\n",
       "      <td>0.0</td>\n",
       "      <td>NaN</td>\n",
       "      <td>0</td>\n",
       "      <td>2017</td>\n",
       "      <td>1999.0</td>\n",
       "      <td>Zone NE</td>\n",
       "      <td>Zone NE</td>\n",
       "    </tr>\n",
       "  </tbody>\n",
       "</table>\n",
       "<p>2 rows × 226 columns</p>\n",
       "</div>"
      ],
      "text/plain": [
       "   BedroomSize  BsmntBedroom  BsmntDen  BsmntDining Rm  BsmntFamily Rm  \\\n",
       "0          NaN           NaN       NaN             NaN             NaN   \n",
       "1          NaN           NaN       NaN             NaN             NaN   \n",
       "\n",
       "   BsmntKitchen  BsmntLaundry  BsmntLiving Rm  BsmntMstr Bed  DenSize  \\\n",
       "0           NaN           NaN             NaN            NaN      NaN   \n",
       "1           NaN           NaN             NaN            NaN      NaN   \n",
       "\n",
       "     ...     transactionType  transitLevel  unitExposure  waterArea  \\\n",
       "0    ...                 NaN         152.0           NaN        0.0   \n",
       "1    ...                 NaN         169.0          E, W        0.0   \n",
       "\n",
       "   waterSupply  waterView  year  yrBuilt     zone  zoneAuto  \n",
       "0          NaN          0  2017   1955.0  Zone SE   Zone SE  \n",
       "1          NaN          0  2017   1999.0  Zone NE   Zone NE  \n",
       "\n",
       "[2 rows x 226 columns]"
      ]
     },
     "execution_count": 30,
     "metadata": {},
     "output_type": "execute_result"
    }
   ],
   "source": [
    "data.head(2)"
   ]
  },
  {
   "cell_type": "code",
   "execution_count": 31,
   "metadata": {},
   "outputs": [
    {
     "data": {
      "text/plain": [
       "35390"
      ]
     },
     "execution_count": 31,
     "metadata": {},
     "output_type": "execute_result"
    }
   ],
   "source": [
    "len(dataset)"
   ]
  },
  {
   "cell_type": "code",
   "execution_count": 32,
   "metadata": {},
   "outputs": [],
   "source": [
    "data['daySoldMilli']=0\n",
    "\n",
    "for i, row in data.iterrows():    \n",
    "    print('progress:',i,end=\"\\r\")\n",
    "    d = data.loc[i,'daySold']\n",
    "    try:\n",
    "        m = datetime.datetime.strptime(d, '%Y-%m-%dT%H:%M:%S').date().strftime(\"%s\")\n",
    "        #print(int(m))\n",
    "        data.loc[i,'daySoldMilli'] = int(m)\n",
    "    except:\n",
    "        pass"
   ]
  },
  {
   "cell_type": "code",
   "execution_count": 33,
   "metadata": {},
   "outputs": [
    {
     "data": {
      "text/plain": [
       "0    1499918400\n",
       "1    1487221200\n",
       "2    1534824000\n",
       "Name: daySoldMilli, dtype: int64"
      ]
     },
     "execution_count": 33,
     "metadata": {},
     "output_type": "execute_result"
    }
   ],
   "source": [
    "data['daySoldMilli'].head(3)"
   ]
  },
  {
   "cell_type": "code",
   "execution_count": 34,
   "metadata": {},
   "outputs": [],
   "source": [
    "wgs84_globe = pyproj.Proj(proj='latlong', ellps='WGS84')\n",
    "aeqd = pyproj.Proj(proj='aeqd', ellps='WGS84', datum='WGS84',\n",
    "                       lat_0=51.0430498278, lon_0=-114.068699725)"
   ]
  },
  {
   "cell_type": "code",
   "execution_count": 35,
   "metadata": {},
   "outputs": [],
   "source": [
    "for i, row in data.iterrows():\n",
    "    print('progress:',i,end=\"\\r\")\n",
    "    lon = data.loc[i,'longitude']\n",
    "    lat = data.loc[i,'latitude']\n",
    "    try:\n",
    "        cor = pyproj.transform(wgs84_globe, aeqd,  lon, lat)\n",
    "        data.loc[i,'longitude'] = cor[0]\n",
    "        data.loc[i,'latitude'] = cor[1]\n",
    "    except:\n",
    "        pass"
   ]
  },
  {
   "cell_type": "code",
   "execution_count": 36,
   "metadata": {},
   "outputs": [
    {
     "data": {
      "text/html": [
       "<div>\n",
       "<style scoped>\n",
       "    .dataframe tbody tr th:only-of-type {\n",
       "        vertical-align: middle;\n",
       "    }\n",
       "\n",
       "    .dataframe tbody tr th {\n",
       "        vertical-align: top;\n",
       "    }\n",
       "\n",
       "    .dataframe thead th {\n",
       "        text-align: right;\n",
       "    }\n",
       "</style>\n",
       "<table border=\"1\" class=\"dataframe\">\n",
       "  <thead>\n",
       "    <tr style=\"text-align: right;\">\n",
       "      <th></th>\n",
       "      <th>longitude</th>\n",
       "      <th>latitude</th>\n",
       "    </tr>\n",
       "  </thead>\n",
       "  <tbody>\n",
       "    <tr>\n",
       "      <th>0</th>\n",
       "      <td>3643.293508</td>\n",
       "      <td>-5362.217534</td>\n",
       "    </tr>\n",
       "    <tr>\n",
       "      <th>1</th>\n",
       "      <td>6216.072747</td>\n",
       "      <td>4993.414993</td>\n",
       "    </tr>\n",
       "    <tr>\n",
       "      <th>2</th>\n",
       "      <td>-1171.180819</td>\n",
       "      <td>-7508.562828</td>\n",
       "    </tr>\n",
       "  </tbody>\n",
       "</table>\n",
       "</div>"
      ],
      "text/plain": [
       "     longitude     latitude\n",
       "0  3643.293508 -5362.217534\n",
       "1  6216.072747  4993.414993\n",
       "2 -1171.180819 -7508.562828"
      ]
     },
     "execution_count": 36,
     "metadata": {},
     "output_type": "execute_result"
    }
   ],
   "source": [
    "data[['longitude','latitude']].head(3)"
   ]
  },
  {
   "cell_type": "code",
   "execution_count": 11,
   "metadata": {},
   "outputs": [
    {
     "data": {
      "text/plain": [
       "<matplotlib.collections.PathCollection at 0x7f37442f8b00>"
      ]
     },
     "execution_count": 11,
     "metadata": {},
     "output_type": "execute_result"
    }
   ],
   "source": [
    "#check outliers\n",
    "fig, ax = plt.subplots()\n",
    "ax.scatter(x = data['livingSpaceSquareFootageAG'], y = data['soldPrice'])"
   ]
  },
  {
   "cell_type": "code",
   "execution_count": 37,
   "metadata": {},
   "outputs": [],
   "source": [
    "#remove outliers\n",
    "data = data.drop(data[(data['livingSpaceSquareFootageAG']>5000) & (data['soldPrice']<2000000)].index)\n",
    "data = data.drop(data[(data['livingSpaceSquareFootageAG']<5000) & (data['soldPrice']>3000000)].index)"
   ]
  },
  {
   "cell_type": "code",
   "execution_count": 11,
   "metadata": {
    "scrolled": true
   },
   "outputs": [],
   "source": [
    "datafull=data[['soldPrice','longitude','latitude','daySoldMilli']]\n",
    "#datafull['soldPrice']=np.log1p(datafull['soldPrice'])"
   ]
  },
  {
   "cell_type": "code",
   "execution_count": 33,
   "metadata": {
    "collapsed": true
   },
   "outputs": [],
   "source": [
    "datafull = datafull.drop(datafull[(datafull['latitude']>53) | (datafull['longitude']>-111)].index)"
   ]
  },
  {
   "cell_type": "code",
   "execution_count": 36,
   "metadata": {},
   "outputs": [
    {
     "data": {
      "text/html": [
       "<div>\n",
       "<table border=\"1\" class=\"dataframe\">\n",
       "  <thead>\n",
       "    <tr style=\"text-align: right;\">\n",
       "      <th></th>\n",
       "      <th>soldPrice</th>\n",
       "      <th>longitude</th>\n",
       "      <th>latitude</th>\n",
       "      <th>daySoldMilli</th>\n",
       "    </tr>\n",
       "  </thead>\n",
       "  <tbody>\n",
       "    <tr>\n",
       "      <th>0</th>\n",
       "      <td>625000</td>\n",
       "      <td>-113.987473</td>\n",
       "      <td>50.892581</td>\n",
       "      <td>1535068800</td>\n",
       "    </tr>\n",
       "    <tr>\n",
       "      <th>1</th>\n",
       "      <td>505000</td>\n",
       "      <td>-114.085375</td>\n",
       "      <td>50.975555</td>\n",
       "      <td>1534809600</td>\n",
       "    </tr>\n",
       "  </tbody>\n",
       "</table>\n",
       "</div>"
      ],
      "text/plain": [
       "   soldPrice   longitude   latitude  daySoldMilli\n",
       "0     625000 -113.987473  50.892581    1535068800\n",
       "1     505000 -114.085375  50.975555    1534809600"
      ]
     },
     "execution_count": 36,
     "metadata": {},
     "output_type": "execute_result"
    }
   ],
   "source": [
    "datafull.head(2)"
   ]
  },
  {
   "cell_type": "code",
   "execution_count": 37,
   "metadata": {},
   "outputs": [
    {
     "name": "stderr",
     "output_type": "stream",
     "text": [
      "/home/carnd/anaconda3/envs/dl/lib/python3.5/site-packages/matplotlib/font_manager.py:1297: UserWarning: findfont: Font family ['sans-serif'] not found. Falling back to DejaVu Sans\n",
      "  (prop.get_family(), self.defaultFamily[fontext]))\n"
     ]
    },
    {
     "data": {
      "image/png": "[encoded data removed]",
      "text/plain": [
       "<matplotlib.figure.Figure at 0x7f36dfc1b390>"
      ]
     },
     "metadata": {},
     "output_type": "display_data"
    }
   ],
   "source": [
    "plt.scatter(datafull['longitude'], datafull['latitude'])\n",
    "plt.show()"
   ]
  },
  {
   "cell_type": "code",
   "execution_count": 12,
   "metadata": {},
   "outputs": [
    {
     "name": "stderr",
     "output_type": "stream",
     "text": [
      "/anaconda3/lib/python3.6/site-packages/ipykernel_launcher.py:1: SettingWithCopyWarning: \n",
      "A value is trying to be set on a copy of a slice from a DataFrame\n",
      "\n",
      "See the caveats in the documentation: http://pandas.pydata.org/pandas-docs/stable/indexing.html#indexing-view-versus-copy\n",
      "  \"\"\"Entry point for launching an IPython kernel.\n"
     ]
    },
    {
     "data": {
      "text/plain": [
       "11415"
      ]
     },
     "execution_count": 12,
     "metadata": {},
     "output_type": "execute_result"
    }
   ],
   "source": [
    "datafull.dropna(inplace=True)\n",
    "datafull=datafull[~pd.isnull(datafull)]\n",
    "len(datafull)"
   ]
  },
  {
   "cell_type": "code",
   "execution_count": 39,
   "metadata": {},
   "outputs": [
    {
     "name": "stderr",
     "output_type": "stream",
     "text": [
      "/home/carnd/anaconda3/envs/dl/lib/python3.5/site-packages/ipykernel/__main__.py:2: SettingWithCopyWarning: \n",
      "A value is trying to be set on a copy of a slice from a DataFrame.\n",
      "Try using .loc[row_indexer,col_indexer] = value instead\n",
      "\n",
      "See the caveats in the documentation: http://pandas.pydata.org/pandas-docs/stable/indexing.html#indexing-view-versus-copy\n",
      "  from ipykernel import kernelapp as app\n"
     ]
    }
   ],
   "source": [
    "datac=datafull.loc[(datafull['soldPrice']<800000)&(datafull['soldPrice']>200000)]\n",
    "datac['soldPrice']=np.log1p(datac['soldPrice'])"
   ]
  },
  {
   "cell_type": "code",
   "execution_count": 75,
   "metadata": {},
   "outputs": [
    {
     "data": {
      "image/png": "[encoded data removed]",
      "text/plain": [
       "<matplotlib.figure.Figure at 0x1a1d016ef0>"
      ]
     },
     "metadata": {},
     "output_type": "display_data"
    }
   ],
   "source": [
    "# define grid.\n",
    "xi = np.linspace(-115.5,-112,100)\n",
    "yi = np.linspace(50,52.7,100)\n",
    "\n",
    "# grid the data.\n",
    "zi = griddata((datac['longitude'], datac['latitude']), datac['soldPrice'], (xi[None,:], yi[:,None]))\n",
    "\n",
    "# contour the gridded data, plotting dots at the randomly spaced data points.\n",
    "CS = plt.contour(xi,yi,zi,15,linewidths=0.5,colors='k')\n",
    "CS = plt.contourf(xi,yi,zi,15,cmap=plt.cm.jet)\n",
    "plt.colorbar() # draw colorbar\n",
    "\n",
    "# plot data points.\n",
    "plt.scatter(datac['longitude'], datac['latitude'],marker='o',c='b',s=5)\n",
    "# plt.xlim(-2,2)\n",
    "# plt.ylim(-2,2)\n",
    "plt.title('2018 transaction')\n",
    "plt.show()"
   ]
  },
  {
   "cell_type": "code",
   "execution_count": null,
   "metadata": {
    "collapsed": true
   },
   "outputs": [],
   "source": []
  },
  {
   "cell_type": "code",
   "execution_count": 40,
   "metadata": {
    "collapsed": true
   },
   "outputs": [],
   "source": [
    "data1=datac"
   ]
  },
  {
   "cell_type": "code",
   "execution_count": 41,
   "metadata": {
    "collapsed": true
   },
   "outputs": [],
   "source": [
    "y=data1['soldPrice']\n",
    "x=data1.drop(['soldPrice'],1)"
   ]
  },
  {
   "cell_type": "code",
   "execution_count": 42,
   "metadata": {},
   "outputs": [
    {
     "data": {
      "text/plain": [
       "9936"
      ]
     },
     "execution_count": 42,
     "metadata": {},
     "output_type": "execute_result"
    }
   ],
   "source": [
    "len(x)"
   ]
  },
  {
   "cell_type": "code",
   "execution_count": 43,
   "metadata": {
    "collapsed": true
   },
   "outputs": [],
   "source": [
    "x_train, x_test, y_train, y_test = train_test_split(x, y, test_size=0.15, random_state=42)"
   ]
  },
  {
   "cell_type": "code",
   "execution_count": 26,
   "metadata": {},
   "outputs": [
    {
     "data": {
      "text/plain": [
       "0"
      ]
     },
     "execution_count": 26,
     "metadata": {},
     "output_type": "execute_result"
    }
   ],
   "source": [
    "len(x_test)"
   ]
  },
  {
   "cell_type": "code",
   "execution_count": 44,
   "metadata": {
    "scrolled": true
   },
   "outputs": [
    {
     "data": {
      "text/html": [
       "<div>\n",
       "<table border=\"1\" class=\"dataframe\">\n",
       "  <thead>\n",
       "    <tr style=\"text-align: right;\">\n",
       "      <th></th>\n",
       "      <th>longitude</th>\n",
       "      <th>latitude</th>\n",
       "      <th>daySoldMilli</th>\n",
       "    </tr>\n",
       "  </thead>\n",
       "  <tbody>\n",
       "    <tr>\n",
       "      <th>8139</th>\n",
       "      <td>-114.115038</td>\n",
       "      <td>50.897965</td>\n",
       "      <td>1524096000</td>\n",
       "    </tr>\n",
       "    <tr>\n",
       "      <th>7465</th>\n",
       "      <td>-113.966550</td>\n",
       "      <td>51.023838</td>\n",
       "      <td>1526947200</td>\n",
       "    </tr>\n",
       "    <tr>\n",
       "      <th>7026</th>\n",
       "      <td>-114.099300</td>\n",
       "      <td>51.068442</td>\n",
       "      <td>1528416000</td>\n",
       "    </tr>\n",
       "  </tbody>\n",
       "</table>\n",
       "</div>"
      ],
      "text/plain": [
       "       longitude   latitude  daySoldMilli\n",
       "8139 -114.115038  50.897965    1524096000\n",
       "7465 -113.966550  51.023838    1526947200\n",
       "7026 -114.099300  51.068442    1528416000"
      ]
     },
     "execution_count": 44,
     "metadata": {},
     "output_type": "execute_result"
    }
   ],
   "source": [
    "x_train.head(3)"
   ]
  },
  {
   "cell_type": "markdown",
   "metadata": {},
   "source": [
    "# Model training"
   ]
  },
  {
   "cell_type": "markdown",
   "metadata": {},
   "source": [
    "## experiment"
   ]
  },
  {
   "cell_type": "code",
   "execution_count": 45,
   "metadata": {
    "collapsed": true
   },
   "outputs": [],
   "source": [
    "from pykrige import OrdinaryKriging,UniversalKriging\n",
    "from pykrige.ok3d import OrdinaryKriging3D"
   ]
  },
  {
   "cell_type": "code",
   "execution_count": 57,
   "metadata": {},
   "outputs": [
    {
     "name": "stdout",
     "output_type": "stream",
     "text": [
      "Plotting Enabled\n",
      "\n",
      "Initializing variogram model...\n",
      "Coordinates type: 'geographic' \n",
      "\n",
      "Using 'exponential' Variogram Model\n",
      "Partial Sill: 0.0935575414436\n",
      "Full Sill: 0.150363532948\n",
      "Range: 1.86369995586\n",
      "Nugget: 0.0568059915044 \n",
      "\n"
     ]
    },
    {
     "name": "stderr",
     "output_type": "stream",
     "text": [
      "/home/carnd/anaconda3/envs/dl/lib/python3.5/site-packages/matplotlib/font_manager.py:1297: UserWarning: findfont: Font family ['sans-serif'] not found. Falling back to DejaVu Sans\n",
      "  (prop.get_family(), self.defaultFamily[fontext]))\n"
     ]
    },
    {
     "data": {
      "image/png": "[encoded data removed]",
      "text/plain": [
       "<matplotlib.figure.Figure at 0x7f36e020f940>"
      ]
     },
     "metadata": {},
     "output_type": "display_data"
    },
    {
     "name": "stdout",
     "output_type": "stream",
     "text": [
      "Calculating statistics on variogram model fit...\n",
      "Q1 = 0.029381722759\n",
      "Q2 = 1.08019229743\n",
      "cR = 0.0645092545627 \n",
      "\n"
     ]
    }
   ],
   "source": [
    "# Create ordinary kriging object:\n",
    "OK = OrdinaryKriging(x_train.iloc[:5000]['longitude'], x_train.iloc[:5000]['latitude'], y_train[:5000], \n",
    "                     variogram_model='exponential', weight=True, \n",
    "                     verbose=True, enable_statistics=True, enable_plotting=True,coordinates_type='geographic',\n",
    "                     nlags=10)"
   ]
  },
  {
   "cell_type": "code",
   "execution_count": 100,
   "metadata": {},
   "outputs": [
    {
     "name": "stdout",
     "output_type": "stream",
     "text": [
      "Plotting Enabled\n",
      "\n",
      "Adjusting data for anisotropy...\n",
      "Initializing variogram model...\n",
      "Using 'exponential' Variogram Model\n",
      "Partial Sill: 0.09253229775078553\n",
      "Full Sill: 0.14770141003630538\n",
      "Range: 1.9707004685156508\n",
      "Nugget: 0.05516911228551984 \n",
      "\n"
     ]
    },
    {
     "data": {
      "image/png": "[encoded data removed]",
      "text/plain": [
       "<matplotlib.figure.Figure at 0x1a1d55f5c0>"
      ]
     },
     "metadata": {},
     "output_type": "display_data"
    },
    {
     "name": "stdout",
     "output_type": "stream",
     "text": [
      "Calculating statistics on variogram model fit...\n",
      "Q1 = 0.028546552157531862\n",
      "Q2 = 1.0934264415281714\n",
      "cR = 0.06378644927863912 \n",
      "\n",
      "Initializing drift terms...\n",
      "Implementing regional linear drift.\n"
     ]
    }
   ],
   "source": [
    "# Create universal kriging object:\n",
    "UK = UniversalKriging(x_train.iloc[:5000]['longitude'], x_train.iloc[:5000]['latitude'], y_train[:5000], \n",
    "                      variogram_model='exponential', \n",
    "                      weight=True,  \n",
    "                      verbose=True, enable_plotting=True,\n",
    "                      drift_terms=['regional_linear'])"
   ]
  },
  {
   "cell_type": "code",
   "execution_count": 55,
   "metadata": {},
   "outputs": [
    {
     "name": "stdout",
     "output_type": "stream",
     "text": [
      "Plotting Enabled\n",
      "\n",
      "Adjusting data for anisotropy...\n",
      "Initializing variogram model...\n",
      "Using 'exponential' Variogram Model\n",
      "Partial Sill: 0.00389187727705\n",
      "Full Sill: 0.0855785170457\n",
      "Range: 19448975.6195\n",
      "Nugget: 0.0816866397687 \n",
      "\n"
     ]
    },
    {
     "name": "stderr",
     "output_type": "stream",
     "text": [
      "/home/carnd/anaconda3/envs/dl/lib/python3.5/site-packages/matplotlib/font_manager.py:1297: UserWarning: findfont: Font family ['sans-serif'] not found. Falling back to DejaVu Sans\n",
      "  (prop.get_family(), self.defaultFamily[fontext]))\n"
     ]
    },
    {
     "data": {
      "image/png": "[encoded data removed]",
      "text/plain": [
       "<matplotlib.figure.Figure at 0x7f36ea1f1b00>"
      ]
     },
     "metadata": {},
     "output_type": "display_data"
    },
    {
     "name": "stdout",
     "output_type": "stream",
     "text": [
      "Calculating statistics on variogram model fit...\n",
      "Q1 = 0.00286833496401\n",
      "Q2 = 1.01488626389\n",
      "cR = 0.0844924941899 \n",
      "\n"
     ]
    }
   ],
   "source": [
    "# 3d OrdinaryKriging\n",
    "OK = OrdinaryKriging3D(x_train.iloc[:1000]['longitude'], x_train.iloc[:1000]['latitude'], x_train.iloc[:1000]['daySoldMilli'], \n",
    "                     y_train[:1000], variogram_model='linear', weight=True, \n",
    "                     verbose=True, enable_plotting=True,nlags=10)"
   ]
  },
  {
   "cell_type": "code",
   "execution_count": 71,
   "metadata": {
    "collapsed": true
   },
   "outputs": [
    {
     "ename": "AttributeError",
     "evalue": "'NoneType' object has no attribute 'size'",
     "output_type": "error",
     "traceback": [
      "\u001b[0;31m---------------------------------------------------------------------------\u001b[0m",
      "\u001b[0;31mAttributeError\u001b[0m                            Traceback (most recent call last)",
      "\u001b[0;32m<ipython-input-71-3c79ffc3f7ac>\u001b[0m in \u001b[0;36m<module>\u001b[0;34m()\u001b[0m\n\u001b[0;32m----> 1\u001b[0;31m \u001b[0mOK\u001b[0m\u001b[0;34m.\u001b[0m\u001b[0mplot_epsilon_residuals\u001b[0m\u001b[0;34m(\u001b[0m\u001b[0;34m)\u001b[0m\u001b[0;34m\u001b[0m\u001b[0m\n\u001b[0m",
      "\u001b[0;32m/anaconda3/lib/python3.6/site-packages/pykrige/ok.py\u001b[0m in \u001b[0;36mplot_epsilon_residuals\u001b[0;34m(self)\u001b[0m\n\u001b[1;32m    421\u001b[0m         \u001b[0mfig\u001b[0m \u001b[0;34m=\u001b[0m \u001b[0mplt\u001b[0m\u001b[0;34m.\u001b[0m\u001b[0mfigure\u001b[0m\u001b[0;34m(\u001b[0m\u001b[0;34m)\u001b[0m\u001b[0;34m\u001b[0m\u001b[0m\n\u001b[1;32m    422\u001b[0m         \u001b[0max\u001b[0m \u001b[0;34m=\u001b[0m \u001b[0mfig\u001b[0m\u001b[0;34m.\u001b[0m\u001b[0madd_subplot\u001b[0m\u001b[0;34m(\u001b[0m\u001b[0;36m111\u001b[0m\u001b[0;34m)\u001b[0m\u001b[0;34m\u001b[0m\u001b[0m\n\u001b[0;32m--> 423\u001b[0;31m         \u001b[0max\u001b[0m\u001b[0;34m.\u001b[0m\u001b[0mscatter\u001b[0m\u001b[0;34m(\u001b[0m\u001b[0mrange\u001b[0m\u001b[0;34m(\u001b[0m\u001b[0mself\u001b[0m\u001b[0;34m.\u001b[0m\u001b[0mepsilon\u001b[0m\u001b[0;34m.\u001b[0m\u001b[0msize\u001b[0m\u001b[0;34m)\u001b[0m\u001b[0;34m,\u001b[0m \u001b[0mself\u001b[0m\u001b[0;34m.\u001b[0m\u001b[0mepsilon\u001b[0m\u001b[0;34m,\u001b[0m \u001b[0mc\u001b[0m\u001b[0;34m=\u001b[0m\u001b[0;34m'k'\u001b[0m\u001b[0;34m,\u001b[0m \u001b[0mmarker\u001b[0m\u001b[0;34m=\u001b[0m\u001b[0;34m'*'\u001b[0m\u001b[0;34m)\u001b[0m\u001b[0;34m\u001b[0m\u001b[0m\n\u001b[0m\u001b[1;32m    424\u001b[0m         \u001b[0max\u001b[0m\u001b[0;34m.\u001b[0m\u001b[0maxhline\u001b[0m\u001b[0;34m(\u001b[0m\u001b[0my\u001b[0m\u001b[0;34m=\u001b[0m\u001b[0;36m0.0\u001b[0m\u001b[0;34m)\u001b[0m\u001b[0;34m\u001b[0m\u001b[0m\n\u001b[1;32m    425\u001b[0m         \u001b[0mplt\u001b[0m\u001b[0;34m.\u001b[0m\u001b[0mshow\u001b[0m\u001b[0;34m(\u001b[0m\u001b[0;34m)\u001b[0m\u001b[0;34m\u001b[0m\u001b[0m\n",
      "\u001b[0;31mAttributeError\u001b[0m: 'NoneType' object has no attribute 'size'"
     ]
    },
    {
     "data": {
      "image/png": "[encoded data removed]",
      "text/plain": [
       "<matplotlib.figure.Figure at 0x6187f82e8>"
      ]
     },
     "metadata": {},
     "output_type": "display_data"
    }
   ],
   "source": [
    "OK.plot_epsilon_residuals()"
   ]
  },
  {
   "cell_type": "code",
   "execution_count": 83,
   "metadata": {},
   "outputs": [
    {
     "name": "stdout",
     "output_type": "stream",
     "text": [
      "Executing Ordinary Kriging...\n",
      "\n"
     ]
    }
   ],
   "source": [
    "#Execute on grid:\n",
    "y_pred, y_std = OK.execute('grid', x_test.iloc[1]['longitude'], x_test.iloc[1]['latitude'])"
   ]
  },
  {
   "cell_type": "code",
   "execution_count": 87,
   "metadata": {},
   "outputs": [
    {
     "data": {
      "text/plain": [
       "286250.0000000002"
      ]
     },
     "execution_count": 87,
     "metadata": {},
     "output_type": "execute_result"
    }
   ],
   "source": [
    "np.expm1(y_test.iloc[1])"
   ]
  },
  {
   "cell_type": "code",
   "execution_count": 90,
   "metadata": {},
   "outputs": [
    {
     "data": {
      "text/plain": [
       "masked_array(data=[[466038.4708176095]],\n",
       "             mask=[[False]],\n",
       "       fill_value=1e+20)"
      ]
     },
     "execution_count": 90,
     "metadata": {},
     "output_type": "execute_result"
    }
   ],
   "source": [
    "np.expm1(y_pred)"
   ]
  },
  {
   "cell_type": "code",
   "execution_count": null,
   "metadata": {
    "collapsed": true
   },
   "outputs": [],
   "source": []
  },
  {
   "cell_type": "code",
   "execution_count": null,
   "metadata": {
    "collapsed": true
   },
   "outputs": [],
   "source": []
  },
  {
   "cell_type": "markdown",
   "metadata": {
    "collapsed": true
   },
   "source": [
    "## clean data for regression"
   ]
  },
  {
   "cell_type": "code",
   "execution_count": 42,
   "metadata": {},
   "outputs": [],
   "source": [
    "def spacial_model_dataclean(rawdata): \n",
    "    \n",
    "    english_stemmer = nltk.stem.SnowballStemmer('english')\n",
    "    if type(rawdata) is dict:\n",
    "        dataset=pd.DataFrame.from_dict(rawdata,orient=\"index\").T\n",
    "     \n",
    "    elif type(rawdata) is list:\n",
    "        # if load data from dynamo\n",
    "        dataset= pd.DataFrame(rawdata)\n",
    "        \n",
    "        # remove duplicates\n",
    "        dataset=dataset.drop_duplicates(subset=['address','daySold'], keep='first')\n",
    "    else:\n",
    "        dataset=rawdata\n",
    "    \n",
    "    dataset=dataset[~pd.isnull(dataset['daySold'])]\n",
    "    dataset=dataset[~pd.isnull(dataset['yrBuilt'])]\n",
    "    dataset=dataset[~pd.isnull(dataset['soldPrice'])]\n",
    "    data=dataset\n",
    "    #data['soldPrice']=data['priceAdjusted']\n",
    "    \n",
    "    var=['bathroomsFull','bathroomsHalf','bedroomsAG','bedroomsTotal','enclosedParking','totalParking','yrBuilt',\n",
    "         'livingSpaceSquareFootageAG', 'soldPrice','trafficLevel','trafficSignal','attraction','latitude','longitude',\n",
    "         'age','taxAmount',\"lotSizeSquareMetres\",'daySoldMilli','waterArea','playgroundArea','parkArea','golfArea',\n",
    "         'transitLevel','mlsIndex']\n",
    "         \n",
    "        # 'mlsIndex','gdp','year','month','salesToListing',\n",
    " \n",
    "    \n",
    "    col=[]\n",
    "    for i in data.columns:\n",
    "        if i in var:\n",
    "            col.append(i)\n",
    "    data=data[col]\n",
    "    data=data[~data['soldPrice'].isna()]\n",
    "    \n",
    "    #data['compsCurrent']=data['compsCurrent'].fillna(data['compsCurrent'].mean())\n",
    "    data=data.fillna(0)\n",
    "    data=data.convert_objects(convert_numeric=True)\n",
    "    data.replace('NaN',0)\n",
    "    \n",
    "    # one-hot encoding \n",
    "    #('parking','basement','buildingType','style','flooring','fireplace','heatingType','exterior','roofType',\n",
    "    #'frontExposure','foundation','constructionType','heatingFuel)\n",
    "    isBuildingType = pd.get_dummies(dataset['buildingType'],prefix='buildingType')\n",
    "    isStyle = pd.get_dummies(dataset['style'],prefix='style')\n",
    "   \n",
    "    isBasement_Walkout= pd.DataFrame(dataset['basement'].str.contains('Walkout')*1)\n",
    "    isBasement_Walkout.columns=['basementWalkout']\n",
    "    \n",
    "    Land_R1= pd.DataFrame(dataset['landUseCode'].str.contains(\"R.*1.*\")*1)\n",
    "    Land_R1.columns=['landCodeR1']\n",
    "    Land_R2= pd.DataFrame(dataset['landUseCode'].str.contains(\"R.*2.*\")*1)\n",
    "    Land_R2.columns=['landCodeR2']\n",
    "    Land_M= pd.DataFrame(dataset['landUseCode'].str.startswith('M')*1)\n",
    "    Land_M.columns=['landCodeM']\n",
    "    \n",
    "    \n",
    "    parking_list=['Attached','Detached','Parking Pad','Rear Drive Access','RV Parking',\n",
    "                 'Outdoor Stalls','220 Volt Wiring']\n",
    "    parking_dataframe=pd.DataFrame()\n",
    "    for d in parking_list:\n",
    "\n",
    "        parking_d= pd.DataFrame(dataset['parking'].str.contains(d)*1)\n",
    "        parking_d.columns=[f'parking{d}']\n",
    "\n",
    "        if parking_dataframe.empty:\n",
    "            parking_dataframe= parking_dataframe.append(parking_d)\n",
    "        else:\n",
    "            parking_dataframe= parking_dataframe.join(parking_d)\n",
    "\n",
    "            \n",
    "    basement_list=['Partly Finished', 'Fully Finished', 'Suite']\n",
    "    basement_dataframe=pd.DataFrame()\n",
    "    for d in basement_list:\n",
    "\n",
    "        basement_d= pd.DataFrame(dataset['basementDevelopment'].str.contains(d)*1)\n",
    "        basement_d.columns=[f'basement{d}']\n",
    "\n",
    "        if basement_dataframe.empty:\n",
    "            basement_dataframe= basement_dataframe.append(basement_d)\n",
    "        else:\n",
    "            basement_dataframe= basement_dataframe.join(basement_d) \n",
    "    \n",
    "    \n",
    "    heatingType_list=['In Floor Heat System']\n",
    "    heatingType_dataframe=pd.DataFrame()\n",
    "    for d in heatingType_list:\n",
    "\n",
    "        heatingType_d= pd.DataFrame(dataset['heatingType'].str.contains(d)*1)\n",
    "        heatingType_d.columns=[f'heatingType{d}']\n",
    "\n",
    "        if heatingType_dataframe.empty:\n",
    "            heatingType_dataframe= heatingType_dataframe.append(heatingType_d)\n",
    "        else:\n",
    "            heatingType_dataframe= heatingType_dataframe.join(heatingType_d)\n",
    "   \n",
    "    \n",
    "    exterior_list=['Brick', 'Composite' , 'Stucco', 'Fiber Cement Siding', 'Stone', 'Metal', 'Wood','Concrete',\n",
    "                   'Asbestos', 'Cedar', 'Vinyl', 'Shingles', 'Log','Asphalt Shingles','Wood Shingle'] \n",
    "    exterior_dataframe=pd.DataFrame()\n",
    "    for d in exterior_list:\n",
    "\n",
    "        exterior_d= pd.DataFrame(dataset['exterior'].str.contains(d)*1)\n",
    "        exterior_d.columns=[f'exterior{d}']\n",
    "\n",
    "        if exterior_dataframe.empty:\n",
    "            exterior_dataframe= exterior_dataframe.append(exterior_d)\n",
    "        else:\n",
    "            exterior_dataframe= exterior_dataframe.join(exterior_d)\n",
    "    \n",
    "    flooring_list=['Carpet', 'Laminate Flooring', 'Linoleum','Hardwood','Ceramic Tile','Slate',\n",
    "                   ' Non-Ceramic Tile','Wall to Wall Carpet','Carpet Over Hardwood','Cork Flooring',\n",
    "                   'Marble','Softwood','Carpet Over Softwood'] \n",
    "    flooring_dataframe=pd.DataFrame()\n",
    "    for d in flooring_list:\n",
    "\n",
    "        flooring_d= pd.DataFrame(dataset['flooring'].str.contains(d)*1)\n",
    "        flooring_d.columns=[f'flooring{d}']\n",
    "\n",
    "        if flooring_dataframe.empty:\n",
    "            flooring_dataframe= flooring_dataframe.append(flooring_d)\n",
    "        else:\n",
    "            flooring_dataframe= flooring_dataframe.join(flooring_d)\n",
    "    \n",
    " \n",
    "    \n",
    "    data= data.join([isBuildingType,isStyle,\n",
    "                     parking_dataframe,isBasement_Walkout,\n",
    "                     Land_R1,Land_R2,Land_M, basement_dataframe,\n",
    "                     heatingType_dataframe,exterior_dataframe,\n",
    "                    flooring_dataframe])\n",
    "    \n",
    "\n",
    "    \n",
    "    data=data.fillna(data.mean())\n",
    "    data.loc[data['age']<=0,'age']=0\n",
    "    col_name=['age', 'bathroomsFull', 'bathroomsHalf', 'bedroomsAG', 'bedroomsTotal', 'enclosedParking', \n",
    "              'livingSpaceSquareFootageAG', 'soldPrice', 'totalParking', \n",
    "              'taxAmount','lotSizeSquareMetres',\n",
    "              'parkingAttached','parkingDetached','longitude', 'latitude','daySoldMilli',\n",
    "              'parkingRear Drive Access','parkingParking Pad','parkingRV Parking','parkingOutdoor Stalls',\n",
    "              'parking220 Volt Wiring',\n",
    "              'yrBuilt', 'buildingType_Detached', \n",
    "              'buildingType_Double Wide', 'buildingType_High Rise Apartment', 'buildingType_Lowrise Apartment', \n",
    "              'buildingType_Row', 'buildingType_Semi Detached', 'buildingType_Single Wide', 'style_1 & Half St', \n",
    "              'style_2 & Half St', 'style_2 Storey', 'style_2 Sty Split', 'style_3 Lvl Split', 'style_3 Storey', \n",
    "              'style_4 Lvl Split', 'style_5 Lvl Split', 'style_Bi-Level', 'style_Bungalow', 'style_Dbl Wide Mob Hm', \n",
    "              'style_Loft', 'style_Modular Home', 'style_Not Applicable', 'style_Single Level Unit', \n",
    "              'style_Sng Wide Mob Hme', 'style_Stacked Townhouse',  'basementWalkout',\n",
    "              'basementFully Finished', 'basementSuite',\n",
    "              'basementPartly Finished', 'landCodeR1', 'landCodeR2', 'landCodeM',  'heatingTypeIn Floor Heat System', \n",
    "              'exteriorComposite', 'exteriorStucco', \n",
    "              'exteriorFiber Cement Siding', 'exteriorStone', 'exteriorMetal', 'exteriorWood', 'exteriorConcrete', \n",
    "              'exteriorAsbestos', 'exteriorCedar', 'exteriorVinyl', 'exteriorShingles', 'exteriorLog', \n",
    "              'exteriorAsphalt Shingles', 'exteriorWood Shingle', \n",
    "              'flooringCarpet', 'flooringLaminate Flooring', 'flooringLinoleum', 'flooringHardwood', 'flooringCeramic Tile', \n",
    "              'flooringSlate', 'flooring Non-Ceramic Tile', 'flooringWall to Wall Carpet', 'flooringCarpet Over Hardwood', \n",
    "              'flooringCork Flooring', 'flooringMarble', 'flooringSoftwood', 'flooringCarpet Over Softwood',\n",
    "              'waterArea','playgroundArea','parkArea','golfArea', 'transitLevel','mlsIndex']\n",
    "     \n",
    "    \n",
    "    for i in col_name:\n",
    "        if i not in data.columns:\n",
    "            data[i]=0\n",
    "    \n",
    "    data=data[col_name]   \n",
    "    \n",
    "            \n",
    "#     data['community']=dataset['communityAuto']\n",
    "\n",
    "#     data['baseDescription']=dataset['baseDescription']       \n",
    "#     data['baseDescription']=data['baseDescription'].str.lower()\n",
    "    \n",
    "\n",
    "#     renovation_searchfor=['renov','improv','refinish','upgrad','updat']\n",
    "#     renovation_dataframe=pd.DataFrame(data['baseDescription'].str.contains('|'.join(renovation_searchfor))*1)\n",
    "#     #print(renovation_dataframe)\n",
    "    \n",
    "#     renovation_dataframe.columns=['renovation']\n",
    "#     renovation_dataframe=renovation_dataframe.astype(float)\n",
    "\n",
    "#     data=data.join([renovation_dataframe])\n",
    "#     data=data.drop(['baseDescription'], 1)\n",
    "    \n",
    "    return data"
   ]
  },
  {
   "cell_type": "code",
   "execution_count": 46,
   "metadata": {},
   "outputs": [
    {
     "name": "stderr",
     "output_type": "stream",
     "text": [
      "/anaconda3/lib/python3.6/site-packages/ipykernel_launcher.py:39: FutureWarning: convert_objects is deprecated.  To re-infer data dtypes for object columns, use DataFrame.infer_objects()\n",
      "For all other conversions use the data-type specific converters pd.to_datetime, pd.to_timedelta and pd.to_numeric.\n"
     ]
    }
   ],
   "source": [
    "clean_data=spacial_model_dataclean(data)"
   ]
  },
  {
   "cell_type": "code",
   "execution_count": 47,
   "metadata": {},
   "outputs": [
    {
     "data": {
      "text/html": [
       "<div>\n",
       "<style scoped>\n",
       "    .dataframe tbody tr th:only-of-type {\n",
       "        vertical-align: middle;\n",
       "    }\n",
       "\n",
       "    .dataframe tbody tr th {\n",
       "        vertical-align: top;\n",
       "    }\n",
       "\n",
       "    .dataframe thead th {\n",
       "        text-align: right;\n",
       "    }\n",
       "</style>\n",
       "<table border=\"1\" class=\"dataframe\">\n",
       "  <thead>\n",
       "    <tr style=\"text-align: right;\">\n",
       "      <th></th>\n",
       "      <th>longitude</th>\n",
       "      <th>latitude</th>\n",
       "      <th>daySoldMilli</th>\n",
       "      <th>year</th>\n",
       "    </tr>\n",
       "  </thead>\n",
       "  <tbody>\n",
       "    <tr>\n",
       "      <th>0</th>\n",
       "      <td>3643.293508</td>\n",
       "      <td>-5362.217534</td>\n",
       "      <td>1499918400</td>\n",
       "      <td>2017</td>\n",
       "    </tr>\n",
       "    <tr>\n",
       "      <th>1</th>\n",
       "      <td>6216.072747</td>\n",
       "      <td>4993.414993</td>\n",
       "      <td>1487221200</td>\n",
       "      <td>2017</td>\n",
       "    </tr>\n",
       "    <tr>\n",
       "      <th>2</th>\n",
       "      <td>-1171.180819</td>\n",
       "      <td>-7508.562828</td>\n",
       "      <td>1534824000</td>\n",
       "      <td>2018</td>\n",
       "    </tr>\n",
       "  </tbody>\n",
       "</table>\n",
       "</div>"
      ],
      "text/plain": [
       "     longitude     latitude  daySoldMilli  year\n",
       "0  3643.293508 -5362.217534    1499918400  2017\n",
       "1  6216.072747  4993.414993    1487221200  2017\n",
       "2 -1171.180819 -7508.562828    1534824000  2018"
      ]
     },
     "execution_count": 47,
     "metadata": {},
     "output_type": "execute_result"
    }
   ],
   "source": [
    "clean_data[['longitude','latitude','daySoldMilli','year']].head(3)"
   ]
  },
  {
   "cell_type": "code",
   "execution_count": 49,
   "metadata": {},
   "outputs": [],
   "source": [
    "writer = pd.ExcelWriter('clean_data2018.xlsx')\n",
    "clean_data.to_excel(writer,'clean_data2018')"
   ]
  },
  {
   "cell_type": "code",
   "execution_count": 207,
   "metadata": {
    "collapsed": true,
    "scrolled": true
   },
   "outputs": [],
   "source": [
    "cor=clean_data[['longitude','latitude']]\n",
    "clean_data1=clean_data.drop(['longitude','latitude'],1)"
   ]
  },
  {
   "cell_type": "code",
   "execution_count": 208,
   "metadata": {
    "collapsed": true
   },
   "outputs": [],
   "source": [
    "clean_data1=np.log1p(clean_data1)\n",
    "clean_data=clean_data1.join(cor)"
   ]
  },
  {
   "cell_type": "code",
   "execution_count": 209,
   "metadata": {
    "collapsed": true
   },
   "outputs": [],
   "source": [
    "Y=clean_data['soldPrice']\n",
    "X=clean_data.drop(['soldPrice'],1)"
   ]
  },
  {
   "cell_type": "markdown",
   "metadata": {},
   "source": [
    "## model"
   ]
  },
  {
   "cell_type": "code",
   "execution_count": 162,
   "metadata": {
    "collapsed": true
   },
   "outputs": [],
   "source": [
    "import sys\n",
    "\n",
    "from sklearn.svm import SVR\n",
    "from sklearn.ensemble import RandomForestRegressor\n",
    "from sklearn.linear_model import LinearRegression\n",
    "from sklearn.datasets import fetch_california_housing\n",
    "\n",
    "from pykrige.rk import RegressionKriging\n",
    "from pykrige.compat import train_test_split\n",
    "import xgboost"
   ]
  },
  {
   "cell_type": "code",
   "execution_count": 210,
   "metadata": {
    "collapsed": true
   },
   "outputs": [],
   "source": [
    "#svr_model = SVR(C=0.1,gamma='auto', kernel='rbf',shrinking=True)\n",
    "#rf_model = RandomForestRegressor(n_estimators=100)\n",
    "xg_model = xgboost.XGBRegressor(n_estimators=1000, learning_rate=0.05, gamma=0.1, subsample=0.9,max_depth=9)\n",
    "lr_model = linear_model.Ridge(copy_X=True, alpha=0.001,fit_intercept=False)\n",
    "\n",
    "models = [ xg_model, lr_model]"
   ]
  },
  {
   "cell_type": "code",
   "execution_count": 211,
   "metadata": {
    "collapsed": true
   },
   "outputs": [],
   "source": [
    "# take the first 5000 as Kriging is memory intensive\n",
    "p = X.drop(['longitude','latitude','daySoldMilli'],1)\n",
    "cordinate = X[['longitude','latitude','daySoldMilli']].values\n",
    "target = Y\n",
    "p_train, p_test, cordinate_train, cordinate_test, target_train, target_test \\\n",
    "    = train_test_split(p, cordinate, target, test_size=0.2, random_state=42)"
   ]
  },
  {
   "cell_type": "code",
   "execution_count": 193,
   "metadata": {},
   "outputs": [
    {
     "name": "stdout",
     "output_type": "stream",
     "text": [
      "========================================\n",
      "regression model: XGBRegressor\n",
      "Finished learning regression model\n",
      "Finished kriging residuals\n",
      "Regression Score:  0.9220250877184338\n",
      "RK score:  0.9226812553980155\n",
      "========================================\n",
      "regression model: Ridge\n",
      "Finished learning regression model\n",
      "Finished kriging residuals\n",
      "Regression Score:  0.7113692459927574\n",
      "RK score:  0.7316776580976936\n"
     ]
    }
   ],
   "source": [
    "for m in models:\n",
    "    print('=' * 40)\n",
    "    print('regression model:', m.__class__.__name__)\n",
    "    m_rk = RegressionKriging(regression_model=m, n_closest_points=10,variogram_model='exponential', \n",
    "                             weight=True,verbose=True,method='ordinary3d')\n",
    "    m_rk.fit(p_train, cordinate_train, target_train)\n",
    "    print('Regression Score: ', m_rk.regression_model.score(p_test, target_test))\n",
    "    print('RK score: ', m_rk.score(p_test, cordinate_test, target_test))"
   ]
  },
  {
   "cell_type": "code",
   "execution_count": null,
   "metadata": {},
   "outputs": [
    {
     "name": "stdout",
     "output_type": "stream",
     "text": [
      "========================================\n",
      "regression model: XGBRegressor\n",
      "Finished learning regression model\n",
      "Adjusting data for anisotropy...\n",
      "Initializing variogram model...\n",
      "Using 'exponential' Variogram Model\n",
      "Partial Sill: 0.03337948302367471\n",
      "Full Sill: 0.03683140268712038\n",
      "Range: 580208.4688132132\n",
      "Nugget: 0.0034519196634456737 \n",
      "\n",
      "Calculating statistics on variogram model fit...\n",
      "Q1 = 0.0026983671160513913\n",
      "Q2 = 1.6458121535586479\n",
      "cR = 0.006071898912307925 \n",
      "\n",
      "Finished kriging residuals\n",
      "Regression Score:  0.9214216678121514\n",
      "Executing Ordinary Kriging...\n",
      "\n",
      "RK score:  0.9287545314084936\n",
      "========================================\n",
      "regression model: Ridge\n",
      "Finished learning regression model\n",
      "Adjusting data for anisotropy...\n",
      "Initializing variogram model...\n",
      "Using 'exponential' Variogram Model\n",
      "Partial Sill: 0.0001899872013953713\n",
      "Full Sill: 0.03139653987751212\n",
      "Range: 0.8155860130837027\n",
      "Nugget: 0.031206552676116748 \n",
      "\n",
      "Calculating statistics on variogram model fit...\n"
     ]
    }
   ],
   "source": [
    "for m in models:\n",
    "    print('=' * 40)\n",
    "    print('regression model:', m.__class__.__name__)\n",
    "    m_rk = RegressionKriging(regression_model=m, n_closest_points=20,variogram_model='exponential', \n",
    "                             weight=True,verbose=True,method='ordinary3d')\n",
    "    m_rk.fit(p_train, cordinate_train, target_train)\n",
    "    print('Regression Score: ', m_rk.regression_model.score(p_test, target_test))\n",
    "    print('RK score: ', m_rk.score(p_test, cordinate_test, target_test))"
   ]
  },
  {
   "cell_type": "code",
   "execution_count": null,
   "metadata": {
    "collapsed": true
   },
   "outputs": [],
   "source": []
  },
  {
   "cell_type": "code",
   "execution_count": null,
   "metadata": {
    "collapsed": true
   },
   "outputs": [],
   "source": []
  }
 ],
 "metadata": {
  "kernelspec": {
   "display_name": "Python 3",
   "language": "python",
   "name": "python3"
  },
  "language_info": {
   "codemirror_mode": {
    "name": "ipython",
    "version": 3
   },
   "file_extension": ".py",
   "mimetype": "text/x-python",
   "name": "python",
   "nbconvert_exporter": "python",
   "pygments_lexer": "ipython3",
   "version": "3.6.6"
  },
  "widgets": {
   "state": {},
   "version": "1.1.2"
  }
 },
 "nbformat": 4,
 "nbformat_minor": 2
}
